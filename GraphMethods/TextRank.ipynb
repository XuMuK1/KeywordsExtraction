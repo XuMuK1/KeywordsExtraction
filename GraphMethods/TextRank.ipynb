{
 "cells": [
  {
   "cell_type": "code",
   "execution_count": 25,
   "metadata": {
    "collapsed": true
   },
   "outputs": [],
   "source": [
    "import nltk\n",
    "import numpy as np\n",
    "import re\n",
    "from nltk.tokenize import RegexpTokenizer\n",
    "import collections\n",
    "import operator"
   ]
  },
  {
   "cell_type": "code",
   "execution_count": 22,
   "metadata": {
    "collapsed": true
   },
   "outputs": [],
   "source": [
    "import networkx as nx\n",
    "import scipy.sparse as sps    \n",
    "import matplotlib.pyplot as plt\n",
    "import matplotlib\n",
    "%matplotlib inline"
   ]
  },
  {
   "cell_type": "code",
   "execution_count": 16,
   "metadata": {},
   "outputs": [],
   "source": []
  },
  {
   "cell_type": "code",
   "execution_count": 26,
   "metadata": {
    "collapsed": true
   },
   "outputs": [],
   "source": [
    "def text_rank_keywords(raw_text, n_top_keywors = 10):\n",
    "    raw_text = re.sub(r'\\d+', '', raw_text)\n",
    "    words = nltk.word_tokenize(raw_text)\n",
    "    words = [word.lower() for word in words if word[0].isalpha()]\n",
    "\n",
    "\n",
    "    #words = [w.lower() for w in text]\n",
    "    wnl = nltk.WordNetLemmatizer()\n",
    "    words = [wnl.lemmatize(w) for w in words]\n",
    "\n",
    "    wordList=np.unique(words)\n",
    "    wordList_filtered = np.array([word for word in wordList if word not in set(nltk.corpus.stopwords.words('english'))])\n",
    "\n",
    "    tagged = nltk.pos_tag(wordList_filtered)\n",
    "\n",
    "\n",
    "    def filter_for_tags(tagged, tags=['NN', 'JJ', 'NNP']):\n",
    "        return [item for item in tagged if item[1] in tags]\n",
    "\n",
    "    tagged = filter_for_tags(tagged)\n",
    "    wordList_filtered = np.array(list(map(lambda x : x[0], tagged)))\n",
    "\n",
    "    window_size = 3\n",
    "    adj_matr = sps.lil_matrix((len(wordList_filtered), len(wordList_filtered)), dtype=\"float64\")\n",
    "\n",
    "    for i, word in enumerate(words):\n",
    "        src = np.where(wordList_filtered == words[i])\n",
    "        if len(src) > 0:\n",
    "            for j in np.arange(i+1, np.min([i+window_size, len(words)])):\n",
    "                dest = np.where(wordList_filtered == words[j])\n",
    "                if len(dest) > 0:\n",
    "                    try:\n",
    "                        adj_matr[src, dest] = adj_matr[src, dest] + 1\n",
    "                    except:\n",
    "                        adj_matr[src, dest] = 1\n",
    "\n",
    "    adj_matr = sps.csr_matrix(adj_matr)\n",
    "    graph = nx.Graph(adj_matr)\n",
    "\n",
    "    textrank = nx.pagerank(graph)\n",
    "\n",
    "    sorted_by_rank = sorted(textrank.items(), key=operator.itemgetter(1))\n",
    "    keywords = list(map(lambda x : x[0], sorted_by_rank[:-n_top_keywors-1:-1]))\n",
    "    return wordList_filtered[np.array(keywords)]"
   ]
  },
  {
   "cell_type": "code",
   "execution_count": 32,
   "metadata": {},
   "outputs": [
    {
     "data": {
      "text/plain": [
       "array(['lopilato', 'buble', 'pop', 'ap', 'concert', 'star', 'actress',\n",
       "       'buenos', 'ceremony', 'month'],\n",
       "      dtype='<U14')"
      ]
     },
     "execution_count": 32,
     "metadata": {},
     "output_type": "execute_result"
    }
   ],
   "source": [
    "from dataset_500 import DataReader\n",
    "dataset = DataReader().fetch_data()\n",
    "x, y = dataset.train_data"
   ]
  },
  {
   "cell_type": "code",
   "execution_count": 40,
   "metadata": {},
   "outputs": [
    {
     "data": {
      "text/plain": [
       "3.3955555555555557"
      ]
     },
     "execution_count": 40,
     "metadata": {},
     "output_type": "execute_result"
    }
   ],
   "source": [
    "s = 0\n",
    "n = len(x)\n",
    "for i in range(n):\n",
    "    ans = text_rank_keywords(x[i])\n",
    "    s += len(set(map(lambda x : x.lower(), y[i])) & set(ans))\n",
    "s/n"
   ]
  },
  {
   "cell_type": "code",
   "execution_count": 46,
   "metadata": {},
   "outputs": [
    {
     "data": {
      "text/plain": [
       "{'continued', 'job', 'recovery', 'unemployment'}"
      ]
     },
     "execution_count": 46,
     "metadata": {},
     "output_type": "execute_result"
    }
   ],
   "source": [
    "text_ind = 67\n",
    "ans = text_rank_keywords(x[text_ind])\n",
    "set(map(lambda x : x.lower(), y[text_ind])) & set(ans)"
   ]
  },
  {
   "cell_type": "code",
   "execution_count": 43,
   "metadata": {},
   "outputs": [
    {
     "data": {
      "text/plain": [
       "array(['lopilato', 'buble', 'pop', 'ap', 'concert', 'star', 'actress',\n",
       "       'buenos', 'ceremony', 'month'],\n",
       "      dtype='<U14')"
      ]
     },
     "execution_count": 43,
     "metadata": {},
     "output_type": "execute_result"
    }
   ],
   "source": [
    "ans"
   ]
  },
  {
   "cell_type": "code",
   "execution_count": 44,
   "metadata": {},
   "outputs": [
    {
     "data": {
      "text/plain": [
       "['married Argentine',\n",
       " 'his Grammy',\n",
       " 'ceremony',\n",
       " 'kisses',\n",
       " 'messages',\n",
       " 'romantically',\n",
       " 'vocal',\n",
       " 'Argentine',\n",
       " 'woman',\n",
       " 'Buble dated',\n",
       " 'thanking',\n",
       " 'wedding ceremony',\n",
       " 'Canadian',\n",
       " 'Michael',\n",
       " 'bouquet',\n",
       " 'vocal album',\n",
       " 'Crazy Love',\n",
       " 'Canadian pop',\n",
       " 'Argentina AP',\n",
       " 'mansion',\n",
       " 'Facebook',\n",
       " 'rose',\n",
       " 'Argentine sweetheart',\n",
       " 'month',\n",
       " 'registry',\n",
       " 'South American',\n",
       " 'after tying',\n",
       " 'downtown',\n",
       " 'beautiful',\n",
       " 'traditional',\n",
       " 'Grammy',\n",
       " 'Vancouver',\n",
       " 'chiffon dress',\n",
       " 'Grammywinning',\n",
       " 'family',\n",
       " 'Lopilato made',\n",
       " 'North',\n",
       " 'bride Argentine TV actress',\n",
       " 'media',\n",
       " 'Twitter',\n",
       " 'met',\n",
       " 'high']"
      ]
     },
     "execution_count": 44,
     "metadata": {},
     "output_type": "execute_result"
    }
   ],
   "source": [
    "y[text_ind]"
   ]
  },
  {
   "cell_type": "code",
   "execution_count": null,
   "metadata": {
    "collapsed": true
   },
   "outputs": [],
   "source": []
  }
 ],
 "metadata": {
  "anaconda-cloud": {},
  "kernelspec": {
   "display_name": "Python [Root]",
   "language": "python",
   "name": "Python [Root]"
  },
  "language_info": {
   "codemirror_mode": {
    "name": "ipython",
    "version": 3
   },
   "file_extension": ".py",
   "mimetype": "text/x-python",
   "name": "python",
   "nbconvert_exporter": "python",
   "pygments_lexer": "ipython3",
   "version": "3.5.2"
  }
 },
 "nbformat": 4,
 "nbformat_minor": 2
}
