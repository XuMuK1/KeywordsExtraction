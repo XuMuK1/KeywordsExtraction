{
 "cells": [
  {
   "cell_type": "markdown",
   "metadata": {},
   "source": [
    "# Test field\n",
    "\n",
    "## Text parsing\n",
    "\n",
    "Bitcoin hits bigger stage as exchange giant CME launches futures\n",
    "Gertrude Chavez-Dreyfuss, Swati Pandey\n",
    "\n",
    "4 Min Read\n",
    "\n",
    "NEW YORK/SYDNEY (Reuters) - Bitcoin futures received a lukewarm reception at its launch on the CME Group Inc on Sunday, although market experts believe a recent rally in the cryptocurrency has further to go.\n",
    "FILE PHOTO: A copy of bitcoin standing on PC motherboard is seen in this illustration picture, October 26, 2017. REUTERS/Dado Ruvic/File Photo\n",
    "\n",
    "The CME bitcoin front-month futures contract did open higher at $20,650, but dropped 6 percent within the first half hour.\n",
    "\n",
    "Sponsored\n",
    "\n",
    "The contract was last at $18,805, below the $19,500 reference price set by the exchange for the January contract.\n",
    "\n",
    "The reference price, from which price limits are set, is $19,600 for the February contract, $19,700 for March and $19,900 for June, according to CME.\n",
    "\n",
    "On Dec. 10, Chicago-based derivatives exchange Cboe Global Markets launched bitcoin futures, which saw the price surge nearly 20 percent in its debut.\n",
    "\n",
    "The week-old bitcoin futures contract at the Cboe was last trading at $18,890, up 4.3 percent.\n",
    "\n",
    "Spot bitcoin eased 1.9 percent on the Bitstamp exchange to $18,650, after surging to a record high of $19,666 on Sunday.\n",
    "\n",
    "The launch of bitcoin futures is viewed as a major step in the digital currency’s path toward legitimacy, which should encourage the entry of big institutional investors.\n",
    "\n",
    "“We saw a nice open on light volume, but pretty uneventful so far,” Spencer Bogart, partner at Blockchain Capital LLC, said shortly after trading began on Sunday.\n",
    "\n",
    "“This is a brand-new asset class and I think perhaps a lot of investors want to sit back and see how this plays out before dipping their toes in this market.”\n",
    "FILE PHOTO: A man enters the CME Group offices in New York, U.S., October 18, 2017. REUTERS/Brendan McDermid/File Photo\n",
    "\n",
    "Volume on CME was recently at 590 contracts. On its debut on Dec. 10, the Cboe traded nearly 4,000 contracts during the full session.\n",
    "\n",
    "Bitcoin was set up in 2008 by an individual or group calling itself Satoshi Nakamoto, and was the first digital currency to successfully use cryptography to keep transactions secure and hidden, making traditional financial regulation difficult if not impossible.\n",
    "HIGHER MARGINS\n",
    "\n",
    "Some investors believe the CME bitcoin futures could attract more institutional demand because the final settlement price is culled from multiple exchanges.\n",
    "Slideshow (2 Images)\n",
    "\n",
    "“The launch should increase buy side pressure and potentially be the catalyst that pushes bitcoin above $20,000,” said Shane Chanel, a fund manager at ASR Wealth Advisers in Melbourne.\n",
    "\n",
    "“The introduction by CME and CBOE has added validity acknowledging bitcoin as a legitimate asset.”\n",
    "\n",
    "The Cboe futures contract is based on a closing auction price of bitcoin from the Gemini exchange, which is owned and operated by virtual currency entrepreneurs Cameron and Tyler Winklevoss.\n",
    "\n",
    "The general sentiment in the market remains one of caution and that has been reflected in margin requirements for the contracts.\n",
    "\n",
    "In the futures market, margin refers to the initial deposit made into an account in order to enter into a contract.\n",
    "\n",
    "The margin requirement at CME is 35 percent, while at Cboe, it is 40 percent, reflecting bitcoin’s volatility. The margin for an S&P 500 futures contract, by contrast, is just 5 percent, analysts said.\n",
    "\n",
    "One futures trader said the average margin for brokers or intermediaries on bitcoin contracts was roughly twice the exchange margins.\n",
    "\n",
    "Reporting by Gertrude Chavez-Dreyfuss, Rodrigo Campos in NEW YORK and Swati Pandey in SYDNEY; Editing by Jennifer Ablan and Peter Cooney"
   ]
  },
  {
   "cell_type": "code",
   "execution_count": 15,
   "metadata": {},
   "outputs": [],
   "source": [
    "import nltk\n",
    "import numpy as np\n",
    "from nltk.tokenize import RegexpTokenizer\n",
    "import collections"
   ]
  },
  {
   "cell_type": "code",
   "execution_count": 13,
   "metadata": {},
   "outputs": [
    {
     "name": "stdout",
     "output_type": "stream",
     "text": [
      "['Bitcoin', 'hits', 'bigger', 'stage', 'as', 'exchange', 'giant', 'CME', 'launches', 'futures', 'Gertrude', 'Chavez', 'Dreyfuss', 'Swati', 'Pandey', '4', 'Min', 'Read', 'NEW', 'YORK', 'SYDNEY', 'Reuters', 'Bitcoin', 'futures', 'received', 'a', 'lukewarm', 'reception', 'at', 'its']\n",
      "610\n"
     ]
    }
   ],
   "source": [
    "with open(\"./data/test/reuters.txt\") as fin:\n",
    "    raw = fin.read()\n",
    "\n",
    "tokens = nltk.tokenize.RegexpTokenizer(r'\\w+').tokenize(raw)\n",
    "print(tokens[:30])\n",
    "text= nltk.Text(tokens)\n",
    "words = [w.lower() for w in text]\n",
    "wnl = nltk.WordNetLemmatizer()\n",
    "words= [wnl.lemmatize(w) for w in words]\n",
    "print(len(words)) # COOL!"
   ]
  },
  {
   "cell_type": "code",
   "execution_count": 24,
   "metadata": {},
   "outputs": [
    {
     "name": "stdout",
     "output_type": "stream",
     "text": [
      "['individual', 'acknowledging', 'ablan', 'satoshi', 'nearly', 'received', '650', 'ha', 'photo', 'launch', 'dropped', 'bitstamp', 'trading', 'from', 'wealth', 'illustration', 'min', 'step', 'did', 'up', 'viewed', 'file', 'higher', 'new', 'legitimacy', 'picture', 'wa', 'set', 'could', 'made']\n",
      "304\n"
     ]
    }
   ],
   "source": [
    "wordList_counter=collections.Counter(words)\n",
    "wordList = list(wordList_counter.keys())\n",
    "print(wordList[:30])\n",
    "print(len(wordList))"
   ]
  },
  {
   "cell_type": "code",
   "execution_count": null,
   "metadata": {},
   "outputs": [],
   "source": []
  }
 ],
 "metadata": {
  "anaconda-cloud": {},
  "kernelspec": {
   "display_name": "Python [Root]",
   "language": "python",
   "name": "Python [Root]"
  },
  "language_info": {
   "codemirror_mode": {
    "name": "ipython",
    "version": 3
   },
   "file_extension": ".py",
   "mimetype": "text/x-python",
   "name": "python",
   "nbconvert_exporter": "python",
   "pygments_lexer": "ipython3",
   "version": "3.5.2"
  }
 },
 "nbformat": 4,
 "nbformat_minor": 1
}
