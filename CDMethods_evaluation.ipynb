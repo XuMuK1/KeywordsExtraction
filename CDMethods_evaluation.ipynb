{
 "cells": [
  {
   "cell_type": "markdown",
   "metadata": {},
   "source": [
    "# Community detection - based methods\n",
    "\n",
    "Here are the testing procedures based on 500KN-Crowd."
   ]
  },
  {
   "cell_type": "code",
   "execution_count": 1,
   "metadata": {},
   "outputs": [],
   "source": [
    "import numpy as np\n",
    "import graphMethods.kwextractor_methods as kwmethods\n",
    "import dataset_500 as ds500"
   ]
  },
  {
   "cell_type": "code",
   "execution_count": 2,
   "metadata": {},
   "outputs": [
    {
     "name": "stdout",
     "output_type": "stream",
     "text": [
      "Data loading started...\n",
      "data has been loaded!\n"
     ]
    },
    {
     "data": {
      "text/plain": [
       "<dataset_500.DataReader at 0x784c82ea90>"
      ]
     },
     "execution_count": 2,
     "metadata": {},
     "output_type": "execute_result"
    }
   ],
   "source": [
    "dataReader = ds500.DataReader()\n",
    "dataReader.fetch_data()"
   ]
  },
  {
   "cell_type": "code",
   "execution_count": 3,
   "metadata": {},
   "outputs": [],
   "source": [
    "#[0] -- texts, dataReader.train_data[1] answers\n",
    "def JaccardIndex(set1,set2):\n",
    "    return len(set1.intersection(set2))/ len(set1.union(set2))\n"
   ]
  },
  {
   "cell_type": "code",
   "execution_count": 4,
   "metadata": {
    "scrolled": false
   },
   "outputs": [],
   "source": [
    "#Veeeeery slow, computed in advance and saved in pickle\n",
    "#jinds_louvain = np.zeros(len(dataReader.train_data[0]))\n",
    "#jinds_gn = np.zeros(len(dataReader.train_data[0]))\n",
    "#jinds_fluid = np.zeros(len(dataReader.train_data[0])) # does not work\n",
    "#jinds_kcore = np.zeros(len(dataReader.train_data[0]))\n",
    "\n",
    "#for i in np.arange(len(jinds_louvain)):\n",
    "#    print(i,\"of\",len(jinds_louvain))\n",
    "#    jinds_louvain[i] =  JaccardIndex(set(kwmethods.LouvainExtractor(dataReader.train_data[0][i],window=3,verbose=False)),set(map(lambda x : x.lower(), dataReader.train_data[1][i])))\n",
    "#    jinds_gn[i] =  JaccardIndex(set(kwmethods.GirvanNewmanExtractor(dataReader.train_data[0][i],window=3,verbose=False)),set(map(lambda x : x.lower(), dataReader.train_data[1][i])))\n",
    "#    #jinds_fluid[i] =  JaccardIndex(set(kwmethods.FluidExtractor(dataReader.train_data[0][i],window=3,verbose=False)),set(dataReader.train_data[1][i]))\n",
    "#    jinds_kcore[i] =  JaccardIndex(set(kwmethods.kCoreExtractor(dataReader.train_data[0][i],window=3,verbose=False)),set(map(lambda x : x.lower(), dataReader.train_data[1][i])))\n"
   ]
  },
  {
   "cell_type": "code",
   "execution_count": 5,
   "metadata": {},
   "outputs": [],
   "source": [
    "import pickle\n",
    "\n",
    "#with open('./jac_graph_louv.pkl','wb') as fout:\n",
    "#    pickle.dump(jinds_louvain,fout)\n",
    "    \n",
    "#with open('./jac_graph_gn.pkl','wb') as fout:\n",
    "#    pickle.dump(jinds_gn,fout)\n",
    "    \n",
    "#with open('./jac_graph_kcore.pkl','wb') as fout:\n",
    "#    pickle.dump(jinds_kcore,fout)\n",
    "    "
   ]
  },
  {
   "cell_type": "code",
   "execution_count": 6,
   "metadata": {},
   "outputs": [],
   "source": [
    "jind_louvain=pickle.load(open(\"./jac_graph_louv.pkl\",\"rb\"))\n",
    "jind_gn=pickle.load(open(\"./jac_graph_gn.pkl\",\"rb\"))\n",
    "jind_kcore=pickle.load(open(\"./jac_graph_kcore.pkl\",\"rb\"))"
   ]
  },
  {
   "cell_type": "code",
   "execution_count": 7,
   "metadata": {},
   "outputs": [
    {
     "name": "stdout",
     "output_type": "stream",
     "text": [
      "Louvain 0.0701710081413\n",
      "GN 0.0694415222177\n",
      "KCore 0.0947949709939\n"
     ]
    }
   ],
   "source": [
    "print(\"Louvain\",np.mean(jind_louvain))\n",
    "print(\"GN\",np.mean(jind_gn))\n",
    "print(\"KCore\",np.mean(jind_kcore))"
   ]
  },
  {
   "cell_type": "code",
   "execution_count": 8,
   "metadata": {},
   "outputs": [
    {
     "name": "stdout",
     "output_type": "stream",
     "text": [
      "449  of 450\r"
     ]
    }
   ],
   "source": [
    "##\n",
    "guessedWords_louv = np.zeros(len(dataReader.train_data[0]))\n",
    "guessedWords_gn = np.zeros(len(dataReader.train_data[0]))\n",
    "guessedWords_kCore = np.zeros(len(dataReader.train_data[0]))\n",
    "\n",
    "for i in np.arange(len(dataReader.train_data[0])):\n",
    "    print(i,\" of 450\",end=\"\\r\")\n",
    "    guessedWords_louv[i] = len(set(kwmethods.LouvainExtractor(dataReader.train_data[0][i],window=3,verbose=False)) & set(map(lambda x : x.lower(), dataReader.train_data[1][i]))) \n",
    "    guessedWords_gn[i] = len(set(kwmethods.GirvanNewmanExtractor(dataReader.train_data[0][i],window=3,verbose=False)) & set(map(lambda x : x.lower(), dataReader.train_data[1][i])))     \n",
    "    guessedWords_kCore[i] = len(set(kwmethods.GirvanNewmanExtractor(dataReader.train_data[0][i],window=3,verbose=False)) & set(map(lambda x : x.lower(), dataReader.train_data[1][i])))     \n",
    "    "
   ]
  },
  {
   "cell_type": "code",
   "execution_count": 12,
   "metadata": {},
   "outputs": [],
   "source": [
    "#with open('./guessed_graph_louv.pkl','wb') as fout:\n",
    "#    pickle.dump(guessedWords_louv,fout)\n",
    "    \n",
    "#with open('./guessed_graph_gn.pkl','wb') as fout:\n",
    "#    pickle.dump(guessedWords_gn,fout)\n",
    "    \n",
    "#with open('./guessed_graph_kcore.pkl','wb') as fout:\n",
    "#    pickle.dump(guessedWords_kCore,fout)\n",
    "    \n",
    "guessedWords_louv=pickle.load(open(\"./guessed_graph_louv.pkl\",\"rb\"))\n",
    "guessedWords_gn=pickle.load(open(\"./guessed_graph_gn.pkl\",\"rb\"))\n",
    "guessedWords_kСore=pickle.load(open(\"./guessed_graph_kcore.pkl\",\"rb\"))"
   ]
  },
  {
   "cell_type": "code",
   "execution_count": 13,
   "metadata": {},
   "outputs": [
    {
     "name": "stdout",
     "output_type": "stream",
     "text": [
      "Louvain 4.01333333333\n",
      "GN 3.94444444444\n",
      "KCore 3.94444444444\n"
     ]
    }
   ],
   "source": [
    "print(\"Louvain\",np.mean(guessedWords_louv))\n",
    "print(\"GN\",np.mean(guessedWords_gn))\n",
    "print(\"KCore\",np.mean(guessedWords_kCore))"
   ]
  },
  {
   "cell_type": "code",
   "execution_count": 14,
   "metadata": {},
   "outputs": [],
   "source": [
    "import matplotlib.pyplot as plt\n",
    "%matplotlib inline"
   ]
  },
  {
   "cell_type": "code",
   "execution_count": 16,
   "metadata": {},
   "outputs": [],
   "source": [
    "#Formatting for boxplots\n",
    "jacData=np.zeros((450,3))\n",
    "guessData=np.zeros((450,3))\n",
    "\n",
    "jacData[:,0]=jind_louvain\n",
    "jacData[:,1]=jind_gn\n",
    "jacData[:,2]=jind_kcore\n",
    "\n",
    "guessData[:,0]=guessedWords_louv\n",
    "guessData[:,1]=guessedWords_gn\n",
    "guessData[:,2]=guessedWords_kСore\n",
    "\n",
    "labs = [\"Louvain\",\"GN\",\"kCore\"]"
   ]
  },
  {
   "cell_type": "code",
   "execution_count": 18,
   "metadata": {},
   "outputs": [
    {
     "data": {
      "text/plain": [
       "Text(0.5,1,'Number of guessed words')"
      ]
     },
     "execution_count": 18,
     "metadata": {},
     "output_type": "execute_result"
    },
    {
     "data": {
      "image/png": "[encoded data removed]",
      "text/plain": [
       "<matplotlib.figure.Figure at 0x7851f93438>"
      ]
     },
     "metadata": {},
     "output_type": "display_data"
    }
   ],
   "source": [
    "f, (ax1,ax2) = plt.subplots(1,2,figsize=(13,7))\n",
    "\n",
    "ax1.boxplot(jacData,labels=labs)\n",
    "ax1.set_title(\"Jaccard index\")\n",
    "\n",
    "ax2.boxplot(guessData,labels=labs)\n",
    "ax2.set_title(\"Number of guessed words\")"
   ]
  },
  {
   "cell_type": "code",
   "execution_count": null,
   "metadata": {},
   "outputs": [],
   "source": []
  }
 ],
 "metadata": {
  "anaconda-cloud": {},
  "kernelspec": {
   "display_name": "Python [Root]",
   "language": "python",
   "name": "Python [Root]"
  },
  "language_info": {
   "codemirror_mode": {
    "name": "ipython",
    "version": 3
   },
   "file_extension": ".py",
   "mimetype": "text/x-python",
   "name": "python",
   "nbconvert_exporter": "python",
   "pygments_lexer": "ipython3",
   "version": "3.5.2"
  }
 },
 "nbformat": 4,
 "nbformat_minor": 1
}
