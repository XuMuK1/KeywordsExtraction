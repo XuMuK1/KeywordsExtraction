{
 "cells": [
  {
   "cell_type": "markdown",
   "metadata": {},
   "source": [
    "# Community detection - based methods\n",
    "\n",
    "Here are the testing procedures based on 500KN-Crowd."
   ]
  },
  {
   "cell_type": "code",
   "execution_count": 1,
   "metadata": {
    "collapsed": true
   },
   "outputs": [],
   "source": [
    "import numpy as np\n",
    "import graphMethods.kwextractor_methods as kwmethods\n",
    "import dataset_500 as ds500"
   ]
  },
  {
   "cell_type": "code",
   "execution_count": 2,
   "metadata": {
    "collapsed": false
   },
   "outputs": [
    {
     "name": "stdout",
     "output_type": "stream",
     "text": [
      "Data loading started...\n",
      "data has been loaded!\n"
     ]
    },
    {
     "data": {
      "text/plain": [
       "<dataset_500.DataReader at 0x18f33573518>"
      ]
     },
     "execution_count": 2,
     "metadata": {},
     "output_type": "execute_result"
    }
   ],
   "source": [
    "dataReader = ds500.DataReader()\n",
    "dataReader.fetch_data()"
   ]
  },
  {
   "cell_type": "code",
   "execution_count": 3,
   "metadata": {
    "collapsed": true
   },
   "outputs": [],
   "source": [
    "#[0] -- texts, dataReader.train_data[1] answers\n",
    "def JaccardIndex(set1,set2):\n",
    "    return len(set1.intersection(set2))/ len(set1.union(set2))\n"
   ]
  },
  {
   "cell_type": "code",
   "execution_count": 4,
   "metadata": {
    "collapsed": false,
    "scrolled": false
   },
   "outputs": [],
   "source": [
    "#jinds_louvain = np.zeros(len(dataReader.train_data[0]))\n",
    "#jinds_gn = np.zeros(len(dataReader.train_data[0]))\n",
    "#jinds_fluid = np.zeros(len(dataReader.train_data[0])) # does not work\n",
    "#jinds_kcore = np.zeros(len(dataReader.train_data[0]))\n",
    "\n",
    "#for i in np.arange(len(jinds_louvain)):\n",
    "#    print(i,\"of\",len(jinds_louvain))\n",
    "#    jinds_louvain[i] =  JaccardIndex(set(kwmethods.LouvainExtractor(dataReader.train_data[0][i],window=3,verbose=False)),set(map(lambda x : x.lower(), dataReader.train_data[1][i])))\n",
    "#    jinds_gn[i] =  JaccardIndex(set(kwmethods.GirvanNewmanExtractor(dataReader.train_data[0][i],window=3,verbose=False)),set(map(lambda x : x.lower(), dataReader.train_data[1][i])))\n",
    "#    #jinds_fluid[i] =  JaccardIndex(set(kwmethods.FluidExtractor(dataReader.train_data[0][i],window=3,verbose=False)),set(dataReader.train_data[1][i]))\n",
    "#    jinds_kcore[i] =  JaccardIndex(set(kwmethods.kCoreExtractor(dataReader.train_data[0][i],window=3,verbose=False)),set(map(lambda x : x.lower(), dataReader.train_data[1][i])))\n"
   ]
  },
  {
   "cell_type": "code",
   "execution_count": 5,
   "metadata": {
    "collapsed": false
   },
   "outputs": [],
   "source": [
    "import pickle\n",
    "\n",
    "#with open('./jac_graph_louv.pkl','wb') as fout:\n",
    "#    pickle.dump(jinds_louvain,fout)\n",
    "    \n",
    "#with open('./jac_graph_gn.pkl','wb') as fout:\n",
    "#    pickle.dump(jinds_gn,fout)\n",
    "    \n",
    "#with open('./jac_graph_kcore.pkl','wb') as fout:\n",
    "#    pickle.dump(jinds_kcore,fout)\n",
    "    "
   ]
  },
  {
   "cell_type": "code",
   "execution_count": 6,
   "metadata": {
    "collapsed": true
   },
   "outputs": [],
   "source": [
    "jind_louvain=pickle.load(open(\"./jac_graph_louv.pkl\",\"rb\"))\n",
    "jind_gn=pickle.load(open(\"./jac_graph_gn.pkl\",\"rb\"))\n",
    "jind_kcore=pickle.load(open(\"./jac_graph_kcore.pkl\",\"rb\"))"
   ]
  },
  {
   "cell_type": "code",
   "execution_count": 8,
   "metadata": {
    "collapsed": false
   },
   "outputs": [
    {
     "name": "stdout",
     "output_type": "stream",
     "text": [
      "Louvain 0.0701710081413\n",
      "GN 0.0694415222177\n",
      "KCore 0.0947949709939\n"
     ]
    }
   ],
   "source": [
    "print(\"Louvain\",np.mean(jind_louvain))\n",
    "print(\"GN\",np.mean(jind_gn))\n",
    "print(\"KCore\",np.mean(jind_kcore))"
   ]
  },
  {
   "cell_type": "code",
   "execution_count": null,
   "metadata": {
    "collapsed": false
   },
   "outputs": [
    {
     "name": "stdout",
     "output_type": "stream",
     "text": [
      "0  of 450\n",
      "1  of 450\n",
      "2  of 450\n",
      "3  of 450\n",
      "4  of 450\n",
      "5  of 450\n",
      "6  of 450\n",
      "7  of 450\n",
      "8  of 450\n",
      "9  of 450\n",
      "10  of 450\n",
      "11  of 450\n",
      "12  of 450\n",
      "13  of 450\n",
      "14  of 450\n",
      "15  of 450\n",
      "16  of 450\n",
      "17  of 450\n",
      "18  of 450\n",
      "19  of 450\n",
      "20  of 450\n",
      "21  of 450\n",
      "22  of 450\n",
      "23  of 450\n",
      "24  of 450\n",
      "25  of 450\n",
      "26  of 450\n",
      "27  of 450\n",
      "28  of 450\n",
      "29  of 450\n",
      "30  of 450\n",
      "31  of 450\n",
      "32  of 450\n",
      "33  of 450\n",
      "34  of 450\n",
      "35  of 450\n",
      "36  of 450\n",
      "37  of 450\n",
      "38  of 450\n",
      "39  of 450\n",
      "40  of 450\n",
      "41  of 450\n",
      "42  of 450\n",
      "43  of 450\n",
      "44  of 450\n",
      "45  of 450\n",
      "46  of 450\n",
      "47  of 450\n",
      "48  of 450\n",
      "49  of 450\n",
      "50  of 450\n",
      "51  of 450\n",
      "52  of 450\n",
      "53  of 450\n",
      "54  of 450\n",
      "55  of 450\n",
      "56  of 450\n",
      "57  of 450\n",
      "58  of 450\n",
      "59  of 450\n"
     ]
    }
   ],
   "source": [
    "##\n",
    "guessedWords_louv = np.zeros(len(dataReader.train_data[0]))\n",
    "guessedWords_gn = np.zeros(len(dataReader.train_data[0]))\n",
    "guessedWords_kCore = np.zeros(len(dataReader.train_data[0]))\n",
    "\n",
    "for i in np.arange(len(dataReader.train_data[0])):\n",
    "    print(i,\" of 450\")\n",
    "    guessedWords_louv[i] = len(set(kwmethods.LouvainExtractor(dataReader.train_data[0][i],window=3,verbose=False)) & set(map(lambda x : x.lower(), dataReader.train_data[1][i]))) \n",
    "    guessedWords_gn[i] = len(set(kwmethods.GirvanNewmanExtractor(dataReader.train_data[0][i],window=3,verbose=False)) & set(map(lambda x : x.lower(), dataReader.train_data[1][i])))     \n",
    "    guessedWords_kCore[i] = len(set(kwmethods.GirvanNewmanExtractor(dataReader.train_data[0][i],window=3,verbose=False)) & set(map(lambda x : x.lower(), dataReader.train_data[1][i])))     \n",
    "    "
   ]
  },
  {
   "cell_type": "code",
   "execution_count": null,
   "metadata": {
    "collapsed": true
   },
   "outputs": [],
   "source": [
    "with open('./guessed_graph_louv.pkl','wb') as fout:\n",
    "    pickle.dump(guessedWords_louv,fout)\n",
    "    \n",
    "with open('./guessed_graph_gn.pkl','wb') as fout:\n",
    "    pickle.dump(guessedWords_gn,fout)\n",
    "    \n",
    "with open('./guessed_graph_kcore.pkl','wb') as fout:\n",
    "    pickle.dump(guessedWords_kcore,fout)\n",
    "    \n",
    "guessedWords_louv=pickle.load(open(\"./guessed_graph_louv.pkl\",\"rb\"))\n",
    "guessedWords_gn=pickle.load(open(\"./guessed_graph_gn.pkl\",\"rb\"))\n",
    "guessedWords_kcore=pickle.load(open(\"./guessed_graph_kcore.pkl\",\"rb\"))"
   ]
  },
  {
   "cell_type": "code",
   "execution_count": null,
   "metadata": {
    "collapsed": true
   },
   "outputs": [],
   "source": [
    "print(\"Louvain\",np.mean(guessedWords_louv))\n",
    "print(\"GN\",np.mean(guessedWords_gn))\n",
    "print(\"KCore\",np.mean(guessedWords_kCore))"
   ]
  }
 ],
 "metadata": {
  "anaconda-cloud": {},
  "kernelspec": {
   "display_name": "Python [conda root]",
   "language": "python",
   "name": "conda-root-py"
  },
  "language_info": {
   "codemirror_mode": {
    "name": "ipython",
    "version": 3
   },
   "file_extension": ".py",
   "mimetype": "text/x-python",
   "name": "python",
   "nbconvert_exporter": "python",
   "pygments_lexer": "ipython3",
   "version": "3.5.2"
  }
 },
 "nbformat": 4,
 "nbformat_minor": 1
}
