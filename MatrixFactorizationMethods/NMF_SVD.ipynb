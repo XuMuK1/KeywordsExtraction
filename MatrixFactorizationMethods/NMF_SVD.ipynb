{
 "cells": [
  {
   "cell_type": "code",
   "execution_count": 1,
   "metadata": {},
   "outputs": [
    {
     "name": "stdout",
     "output_type": "stream",
     "text": [
      "Data loading started...\n",
      "data has been loaded!\n"
     ]
    }
   ],
   "source": [
    "from dataset_500 import DataReader\n",
    "dataset = DataReader().fetch_data()\n",
    "x, y = dataset.train_data"
   ]
  },
  {
   "cell_type": "code",
   "execution_count": 2,
   "metadata": {},
   "outputs": [],
   "source": [
    "from sklearn.feature_extraction.text import TfidfVectorizer\n",
    "from sklearn.decomposition import NMF\n",
    "import numpy as np\n",
    "\n",
    "n_features = 2000\n",
    "vectorizer = TfidfVectorizer(max_df=0.95, min_df=2, max_features=n_features,\n",
    "                             stop_words='english')\n",
    "\n",
    "tfidf = vectorizer.fit_transform(x)\n",
    "feature_names = vectorizer.get_feature_names()"
   ]
  },
  {
   "cell_type": "code",
   "execution_count": 3,
   "metadata": {
    "collapsed": true
   },
   "outputs": [],
   "source": [
    "n_topics = 5"
   ]
  },
  {
   "cell_type": "code",
   "execution_count": 8,
   "metadata": {
    "collapsed": true
   },
   "outputs": [],
   "source": [
    "nmf = NMF(n_components=n_topics, random_state=1)\n",
    "W = nmf.fit_transform(tfidf)\n",
    "H = nmf.components_"
   ]
  },
  {
   "cell_type": "code",
   "execution_count": 9,
   "metadata": {},
   "outputs": [
    {
     "data": {
      "text/plain": [
       "20.16947013800678"
      ]
     },
     "execution_count": 9,
     "metadata": {},
     "output_type": "execute_result"
    }
   ],
   "source": [
    "nmf_based = W@H\n",
    "np.linalg.norm(nmf_based - tfidf)"
   ]
  },
  {
   "cell_type": "code",
   "execution_count": 10,
   "metadata": {
    "collapsed": true
   },
   "outputs": [],
   "source": [
    "def nmf_keywords(text_id, n_keywords = 10):\n",
    "    indx = np.argsort(nmf_based[text_id,:])[-n_keywords:]\n",
    "    return [feature_names[i] for i in reversed(indx)]"
   ]
  },
  {
   "cell_type": "code",
   "execution_count": 11,
   "metadata": {},
   "outputs": [
    {
     "data": {
      "text/plain": [
       "['said',\n",
       " 'police',\n",
       " 'new',\n",
       " 'people',\n",
       " 'year',\n",
       " 'man',\n",
       " 'time',\n",
       " 'friday',\n",
       " 'game',\n",
       " 'like']"
      ]
     },
     "execution_count": 11,
     "metadata": {},
     "output_type": "execute_result"
    }
   ],
   "source": [
    "nmf_keywords(0)"
   ]
  },
  {
   "cell_type": "code",
   "execution_count": 12,
   "metadata": {},
   "outputs": [
    {
     "data": {
      "text/plain": [
       "0.8111111111111111"
      ]
     },
     "execution_count": 12,
     "metadata": {},
     "output_type": "execute_result"
    }
   ],
   "source": [
    "s = 0\n",
    "n = len(x)\n",
    "for i in range(n):\n",
    "    ans = nmf_keywords(i)\n",
    "    s += len(set(map(lambda x : x.lower(), y[i])) & set(ans))\n",
    "s/n\n"
   ]
  },
  {
   "cell_type": "code",
   "execution_count": null,
   "metadata": {
    "collapsed": true
   },
   "outputs": [],
   "source": []
  },
  {
   "cell_type": "code",
   "execution_count": 14,
   "metadata": {},
   "outputs": [],
   "source": [
    "import scipy\n",
    "\n",
    "U, S, Vt = scipy.sparse.linalg.svds(tfidf, n_topics)\n",
    "svd_based = U @ scipy.sparse.diags(S) @ Vt\n",
    "\n",
    "def svd_keywords(text_id, n_keywords = 10):\n",
    "    indx = np.argsort(svd_based[text_id,:])[-n_keywords:]\n",
    "    return [feature_names[i] for i in reversed(indx)]"
   ]
  },
  {
   "cell_type": "code",
   "execution_count": 15,
   "metadata": {},
   "outputs": [
    {
     "data": {
      "text/plain": [
       "0.84"
      ]
     },
     "execution_count": 15,
     "metadata": {},
     "output_type": "execute_result"
    }
   ],
   "source": [
    "s = 0\n",
    "n = len(x)\n",
    "for i in range(n):\n",
    "    ans = svd_keywords(i)\n",
    "    s += len(set(map(lambda x : x.lower(), y[i])) & set(ans))\n",
    "s/n"
   ]
  },
  {
   "cell_type": "code",
   "execution_count": 82,
   "metadata": {},
   "outputs": [],
   "source": [
    "import nltk\n",
    "\n",
    "text_ind = 0\n",
    "\n",
    "n_topics=5\n",
    "\n",
    "def nmf_keywords_separate(text, n_keywords = 10):\n",
    "    vectorizer = TfidfVectorizer(max_features = n_features,\n",
    "                                 stop_words = 'english')\n",
    "    sentences = nltk.sent_tokenize(text)\n",
    "    tfidf = vectorizer.fit_transform(sentences)\n",
    "    feature_names = vectorizer.get_feature_names()\n",
    "    nmf = NMF(n_components=min(n_topics, len(sentences)), random_state=1)\n",
    "    W = nmf.fit_transform(tfidf)\n",
    "    H = nmf.components_\n",
    "    \n",
    "    indx = np.argsort(H[0,:])[-n_keywords:]\n",
    "    return [feature_names[i] for i in reversed(indx)]"
   ]
  },
  {
   "cell_type": "code",
   "execution_count": 84,
   "metadata": {},
   "outputs": [
    {
     "data": {
      "text/plain": [
       "['luisana',\n",
       " 'star',\n",
       " 'tv',\n",
       " 'ap',\n",
       " 'michael',\n",
       " 'buble',\n",
       " 'thursday',\n",
       " 'argentina',\n",
       " 'canadian',\n",
       " 'lopilato']"
      ]
     },
     "execution_count": 84,
     "metadata": {},
     "output_type": "execute_result"
    }
   ],
   "source": [
    "nmf_keywords_separate(x[0])"
   ]
  },
  {
   "cell_type": "code",
   "execution_count": 85,
   "metadata": {},
   "outputs": [
    {
     "name": "stderr",
     "output_type": "stream",
     "text": [
      "C:\\Users\\Aleksandr\\Miniconda3\\envs\\ml3\\lib\\site-packages\\sklearn\\decomposition\\nmf.py:103: RuntimeWarning: invalid value encountered in sqrt\n",
      "  return np.sqrt(res * 2)\n"
     ]
    },
    {
     "data": {
      "text/plain": [
       "3.58"
      ]
     },
     "execution_count": 85,
     "metadata": {},
     "output_type": "execute_result"
    }
   ],
   "source": [
    "s = 0\n",
    "n = len(x)\n",
    "for i in range(n):\n",
    "    ans = nmf_keywords_separate(x[i])\n",
    "    s += len(set(map(lambda x : x.lower(), y[i])) & set(ans))\n",
    "s/n"
   ]
  },
  {
   "cell_type": "code",
   "execution_count": 93,
   "metadata": {},
   "outputs": [
    {
     "name": "stderr",
     "output_type": "stream",
     "text": [
      "C:\\Users\\Aleksandr\\Miniconda3\\envs\\ml3\\lib\\site-packages\\sklearn\\decomposition\\nmf.py:103: RuntimeWarning: invalid value encountered in sqrt\n",
      "  return np.sqrt(res * 2)\n"
     ]
    },
    {
     "name": "stdout",
     "output_type": "stream",
     "text": [
      "Jaccard Index: 0.07596959608603467\n"
     ]
    }
   ],
   "source": [
    "s = 0\n",
    "n = len(x)\n",
    "for i in range(n):\n",
    "    ans = nmf_keywords_separate(x[i])\n",
    "    ans = set(ans)\n",
    "    real_ans = set(map(lambda x : x.lower(), y[i]))\n",
    "    s += len(real_ans & ans)/len(real_ans | ans)  \n",
    "\n",
    "print(\"Jaccard Index:\", s/n)"
   ]
  },
  {
   "cell_type": "code",
   "execution_count": null,
   "metadata": {},
   "outputs": [],
   "source": []
  },
  {
   "cell_type": "code",
   "execution_count": 86,
   "metadata": {},
   "outputs": [],
   "source": [
    "def svd_keywords_separate(text, n_keywords = 10):\n",
    "    vectorizer = TfidfVectorizer(max_features = n_features,\n",
    "                                 stop_words = 'english')\n",
    "    sentences = nltk.sent_tokenize(text)\n",
    "    tfidf = vectorizer.fit_transform(sentences)\n",
    "    feature_names = vectorizer.get_feature_names()\n",
    "    if len(sentences) < 2:\n",
    "        U, S, Vt = scipy.linalg.svd(tfidf.toarray())\n",
    "    else:\n",
    "        U, S, Vt = scipy.sparse.linalg.svds(tfidf, 1)\n",
    "    \n",
    "    U = np.fliplr(U)\n",
    "    Vt = np.flipud(Vt)\n",
    "    S = S[::-1]\n",
    "    \n",
    "    indx = np.argsort(Vt[0,:])[-n_keywords:]\n",
    "    return [feature_names[i] for i in reversed(indx)]"
   ]
  },
  {
   "cell_type": "code",
   "execution_count": 87,
   "metadata": {},
   "outputs": [
    {
     "data": {
      "text/plain": [
       "3.2066666666666666"
      ]
     },
     "execution_count": 87,
     "metadata": {},
     "output_type": "execute_result"
    }
   ],
   "source": [
    "s = 0\n",
    "n = len(x)\n",
    "for i in range(n):\n",
    "    ans = svd_keywords_separate(x[i])\n",
    "    s += len(set(map(lambda x : x.lower(), y[i])) & set(ans))\n",
    "s/n"
   ]
  },
  {
   "cell_type": "code",
   "execution_count": 92,
   "metadata": {},
   "outputs": [
    {
     "name": "stdout",
     "output_type": "stream",
     "text": [
      "Jaccard Index: 0.06921680547600612\n"
     ]
    }
   ],
   "source": [
    "s = 0\n",
    "n = len(x)\n",
    "for i in range(n):\n",
    "    ans = svd_keywords_separate(x[i])\n",
    "    ans = set(ans)\n",
    "    real_ans = set(map(lambda x : x.lower(), y[i]))\n",
    "    s += len(real_ans & ans)/len(real_ans | ans)  \n",
    "\n",
    "print(\"Jaccard Index:\", s/n)"
   ]
  },
  {
   "cell_type": "code",
   "execution_count": 88,
   "metadata": {},
   "outputs": [
    {
     "data": {
      "text/plain": [
       "['kutcher',\n",
       " 'ashton',\n",
       " 'bieber',\n",
       " 'justin',\n",
       " 'film',\n",
       " 'playing',\n",
       " 'worst',\n",
       " 'version',\n",
       " 'buddy',\n",
       " 'look']"
      ]
     },
     "execution_count": 88,
     "metadata": {},
     "output_type": "execute_result"
    }
   ],
   "source": [
    "svd_keywords_separate(x[2])"
   ]
  },
  {
   "cell_type": "code",
   "execution_count": 80,
   "metadata": {
    "collapsed": true
   },
   "outputs": [],
   "source": [
    "with open('reuters.txt', 'r') as file:\n",
    "    t = file.read()"
   ]
  },
  {
   "cell_type": "code",
   "execution_count": 89,
   "metadata": {},
   "outputs": [
    {
     "data": {
      "text/plain": [
       "['nakamoto',\n",
       " 'use',\n",
       " 'secure',\n",
       " 'satoshi',\n",
       " 'cryptography',\n",
       " 'regulation',\n",
       " 'traditional',\n",
       " 'transactions',\n",
       " 'successfully',\n",
       " 'making']"
      ]
     },
     "execution_count": 89,
     "metadata": {},
     "output_type": "execute_result"
    }
   ],
   "source": [
    "svd_keywords_separate(t)"
   ]
  },
  {
   "cell_type": "code",
   "execution_count": 90,
   "metadata": {},
   "outputs": [
    {
     "data": {
      "text/plain": [
       "['19',\n",
       " 'contract',\n",
       " 'price',\n",
       " 'reference',\n",
       " 'set',\n",
       " '18',\n",
       " '805',\n",
       " 'january',\n",
       " 'sponsored',\n",
       " 'exchange']"
      ]
     },
     "execution_count": 90,
     "metadata": {},
     "output_type": "execute_result"
    }
   ],
   "source": [
    "nmf_keywords_separate(t)"
   ]
  },
  {
   "cell_type": "code",
   "execution_count": 91,
   "metadata": {},
   "outputs": [
    {
     "data": {
      "text/plain": [
       "'Bitcoin hits bigger stage as exchange giant CME launches futures\\nGertrude Chavez-Dreyfuss, Swati Pandey\\n\\n4 Min Read\\n\\nNEW YORK/SYDNEY (Reuters) - Bitcoin futures received a lukewarm reception at its launch on the CME Group Inc on Sunday, although market experts believe a recent rally in the cryptocurrency has further to go.\\nFILE PHOTO: A copy of bitcoin standing on PC motherboard is seen in this illustration picture, October 26, 2017. REUTERS/Dado Ruvic/File Photo\\n\\nThe CME bitcoin front-month futures contract did open higher at $20,650, but dropped 6 percent within the first half hour.\\n\\nSponsored\\n\\nThe contract was last at $18,805, below the $19,500 reference price set by the exchange for the January contract.\\n\\nThe reference price, from which price limits are set, is $19,600 for the February contract, $19,700 for March and $19,900 for June, according to CME.\\n\\nOn Dec. 10, Chicago-based derivatives exchange Cboe Global Markets launched bitcoin futures, which saw the price surge nearly 20 percent in its debut.\\n\\nThe week-old bitcoin futures contract at the Cboe was last trading at $18,890, up 4.3 percent.\\n\\nSpot bitcoin eased 1.9 percent on the Bitstamp exchange to $18,650, after surging to a record high of $19,666 on Sunday.\\n\\nThe launch of bitcoin futures is viewed as a major step in the digital currency’s path toward legitimacy, which should encourage the entry of big institutional investors.\\n\\n“We saw a nice open on light volume, but pretty uneventful so far,” Spencer Bogart, partner at Blockchain Capital LLC, said shortly after trading began on Sunday.\\n\\n“This is a brand-new asset class and I think perhaps a lot of investors want to sit back and see how this plays out before dipping their toes in this market.”\\nFILE PHOTO: A man enters the CME Group offices in New York, U.S., October 18, 2017. REUTERS/Brendan McDermid/File Photo\\n\\nVolume on CME was recently at 590 contracts. On its debut on Dec. 10, the Cboe traded nearly 4,000 contracts during the full session.\\n\\nBitcoin was set up in 2008 by an individual or group calling itself Satoshi Nakamoto, and was the first digital currency to successfully use cryptography to keep transactions secure and hidden, making traditional financial regulation difficult if not impossible.\\nHIGHER MARGINS\\n\\nSome investors believe the CME bitcoin futures could attract more institutional demand because the final settlement price is culled from multiple exchanges.\\nSlideshow (2 Images)\\n\\n“The launch should increase buy side pressure and potentially be the catalyst that pushes bitcoin above $20,000,” said Shane Chanel, a fund manager at ASR Wealth Advisers in Melbourne.\\n\\n“The introduction by CME and CBOE has added validity acknowledging bitcoin as a legitimate asset.”\\n\\nThe Cboe futures contract is based on a closing auction price of bitcoin from the Gemini exchange, which is owned and operated by virtual currency entrepreneurs Cameron and Tyler Winklevoss.\\n\\nThe general sentiment in the market remains one of caution and that has been reflected in margin requirements for the contracts.\\n\\nIn the futures market, margin refers to the initial deposit made into an account in order to enter into a contract.\\n\\nThe margin requirement at CME is 35 percent, while at Cboe, it is 40 percent, reflecting bitcoin’s volatility. The margin for an S&P 500 futures contract, by contrast, is just 5 percent, analysts said.\\n\\nOne futures trader said the average margin for brokers or intermediaries on bitcoin contracts was roughly twice the exchange margins.\\n\\nReporting by Gertrude Chavez-Dreyfuss, Rodrigo Campos in NEW YORK and Swati Pandey in SYDNEY; Editing by Jennifer Ablan and Peter Cooney'"
      ]
     },
     "execution_count": 91,
     "metadata": {},
     "output_type": "execute_result"
    }
   ],
   "source": [
    "t"
   ]
  },
  {
   "cell_type": "code",
   "execution_count": null,
   "metadata": {
    "collapsed": true
   },
   "outputs": [],
   "source": []
  }
 ],
 "metadata": {
  "kernelspec": {
   "display_name": "Python 3",
   "language": "python",
   "name": "python3"
  },
  "language_info": {
   "codemirror_mode": {
    "name": "ipython",
    "version": 3
   },
   "file_extension": ".py",
   "mimetype": "text/x-python",
   "name": "python",
   "nbconvert_exporter": "python",
   "pygments_lexer": "ipython3",
   "version": "3.6.2"
  }
 },
 "nbformat": 4,
 "nbformat_minor": 2
}
