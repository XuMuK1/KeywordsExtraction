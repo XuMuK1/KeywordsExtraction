{
 "cells": [
  {
   "cell_type": "code",
   "execution_count": 1,
   "metadata": {},
   "outputs": [
    {
     "name": "stdout",
     "output_type": "stream",
     "text": [
      "Data loading started...\n",
      "data has been loaded!\n"
     ]
    }
   ],
   "source": [
    "from dataset_500 import DataReader\n",
    "dataset = DataReader().fetch_data()\n",
    "x, y = dataset.train_data"
   ]
  },
  {
   "cell_type": "code",
   "execution_count": 2,
   "metadata": {},
   "outputs": [],
   "source": [
    "from sklearn.feature_extraction.text import TfidfVectorizer\n",
    "from sklearn.decomposition import NMF\n",
    "import numpy as np\n",
    "\n",
    "n_features = 2000\n",
    "vectorizer = TfidfVectorizer(max_df=0.95, min_df=2, max_features=n_features,\n",
    "                             stop_words='english')\n",
    "\n",
    "tfidf = vectorizer.fit_transform(x)\n",
    "feature_names = vectorizer.get_feature_names()"
   ]
  },
  {
   "cell_type": "code",
   "execution_count": 3,
   "metadata": {
    "collapsed": true
   },
   "outputs": [],
   "source": [
    "n_topics = 5"
   ]
  },
  {
   "cell_type": "code",
   "execution_count": 8,
   "metadata": {
    "collapsed": true
   },
   "outputs": [],
   "source": [
    "nmf = NMF(n_components=n_topics, random_state=1)\n",
    "W = nmf.fit_transform(tfidf)\n",
    "H = nmf.components_"
   ]
  },
  {
   "cell_type": "code",
   "execution_count": 9,
   "metadata": {},
   "outputs": [
    {
     "data": {
      "text/plain": [
       "20.16947013800678"
      ]
     },
     "execution_count": 9,
     "metadata": {},
     "output_type": "execute_result"
    }
   ],
   "source": [
    "nmf_based = W@H\n",
    "np.linalg.norm(nmf_based - tfidf)"
   ]
  },
  {
   "cell_type": "code",
   "execution_count": 10,
   "metadata": {
    "collapsed": true
   },
   "outputs": [],
   "source": [
    "def nmf_keywords(text_id, n_keywords = 10):\n",
    "    indx = np.argsort(nmf_based[text_id,:])[-n_keywords:]\n",
    "    return [feature_names[i] for i in reversed(indx)]"
   ]
  },
  {
   "cell_type": "code",
   "execution_count": 11,
   "metadata": {},
   "outputs": [
    {
     "data": {
      "text/plain": [
       "['said',\n",
       " 'police',\n",
       " 'new',\n",
       " 'people',\n",
       " 'year',\n",
       " 'man',\n",
       " 'time',\n",
       " 'friday',\n",
       " 'game',\n",
       " 'like']"
      ]
     },
     "execution_count": 11,
     "metadata": {},
     "output_type": "execute_result"
    }
   ],
   "source": [
    "nmf_keywords(0)"
   ]
  },
  {
   "cell_type": "code",
   "execution_count": 12,
   "metadata": {},
   "outputs": [
    {
     "data": {
      "text/plain": [
       "0.8111111111111111"
      ]
     },
     "execution_count": 12,
     "metadata": {},
     "output_type": "execute_result"
    }
   ],
   "source": [
    "s = 0\n",
    "n = len(x)\n",
    "for i in range(n):\n",
    "    ans = nmf_keywords(i)\n",
    "    s += len(set(map(lambda x : x.lower(), y[i])) & set(ans))\n",
    "s/n\n"
   ]
  },
  {
   "cell_type": "code",
   "execution_count": null,
   "metadata": {
    "collapsed": true
   },
   "outputs": [],
   "source": []
  },
  {
   "cell_type": "code",
   "execution_count": 14,
   "metadata": {},
   "outputs": [],
   "source": [
    "import scipy\n",
    "\n",
    "U, S, Vt = scipy.sparse.linalg.svds(tfidf, n_topics)\n",
    "svd_based = U @ scipy.sparse.diags(S) @ Vt\n",
    "\n",
    "def svd_keywords(text_id, n_keywords = 10):\n",
    "    indx = np.argsort(svd_based[text_id,:])[-n_keywords:]\n",
    "    return [feature_names[i] for i in reversed(indx)]"
   ]
  },
  {
   "cell_type": "code",
   "execution_count": 15,
   "metadata": {},
   "outputs": [
    {
     "data": {
      "text/plain": [
       "0.84"
      ]
     },
     "execution_count": 15,
     "metadata": {},
     "output_type": "execute_result"
    }
   ],
   "source": [
    "s = 0\n",
    "n = len(x)\n",
    "for i in range(n):\n",
    "    ans = svd_keywords(i)\n",
    "    s += len(set(map(lambda x : x.lower(), y[i])) & set(ans))\n",
    "s/n"
   ]
  },
  {
   "cell_type": "code",
   "execution_count": 58,
   "metadata": {},
   "outputs": [],
   "source": [
    "import nltk\n",
    "\n",
    "text_ind = 0\n",
    "\n",
    "n_topics=5\n",
    "\n",
    "def nmf_keywords_separate(text_id, n_keywords = 10):\n",
    "    vectorizer = TfidfVectorizer(max_features = n_features,\n",
    "                                 stop_words = 'english')\n",
    "    sentences = nltk.sent_tokenize(x[text_id])\n",
    "    tfidf = vectorizer.fit_transform(sentences)\n",
    "    feature_names = vectorizer.get_feature_names()\n",
    "    nmf = NMF(n_components=min(n_topics, len(sentences)), random_state=1)\n",
    "    W = nmf.fit_transform(tfidf)\n",
    "    H = nmf.components_\n",
    "    \n",
    "    indx = np.argsort(H[0,:])[-n_keywords:]\n",
    "    return [feature_names[i] for i in reversed(indx)]"
   ]
  },
  {
   "cell_type": "code",
   "execution_count": 61,
   "metadata": {},
   "outputs": [
    {
     "data": {
      "text/plain": [
       "['luisana',\n",
       " 'star',\n",
       " 'tv',\n",
       " 'ap',\n",
       " 'michael',\n",
       " 'buble',\n",
       " 'thursday',\n",
       " 'argentina',\n",
       " 'canadian',\n",
       " 'lopilato']"
      ]
     },
     "execution_count": 61,
     "metadata": {},
     "output_type": "execute_result"
    }
   ],
   "source": [
    "nmf_keywords_separate(0)"
   ]
  },
  {
   "cell_type": "code",
   "execution_count": 54,
   "metadata": {},
   "outputs": [
    {
     "name": "stderr",
     "output_type": "stream",
     "text": [
      "C:\\Users\\Aleksandr\\Miniconda3\\envs\\ml3\\lib\\site-packages\\sklearn\\decomposition\\nmf.py:103: RuntimeWarning: invalid value encountered in sqrt\n",
      "  return np.sqrt(res * 2)\n"
     ]
    },
    {
     "data": {
      "text/plain": [
       "3.58"
      ]
     },
     "execution_count": 54,
     "metadata": {},
     "output_type": "execute_result"
    }
   ],
   "source": [
    "s = 0\n",
    "n = len(x)\n",
    "for i in range(n):\n",
    "    ans = nmf_keywords_separate(i)\n",
    "    s += len(set(map(lambda x : x.lower(), y[i])) & set(ans))\n",
    "s/n"
   ]
  },
  {
   "cell_type": "code",
   "execution_count": null,
   "metadata": {},
   "outputs": [],
   "source": []
  },
  {
   "cell_type": "code",
   "execution_count": 76,
   "metadata": {},
   "outputs": [],
   "source": [
    "def svd_keywords_separate(text_id, n_keywords = 10):\n",
    "    vectorizer = TfidfVectorizer(max_features = n_features,\n",
    "                                 stop_words = 'english')\n",
    "    sentences = nltk.sent_tokenize(x[text_id])\n",
    "    tfidf = vectorizer.fit_transform(sentences)\n",
    "    feature_names = vectorizer.get_feature_names()\n",
    "    if len(sentences) < 2:\n",
    "        U, S, Vt = scipy.linalg.svd(tfidf.toarray())\n",
    "    else:\n",
    "        U, S, Vt = scipy.sparse.linalg.svds(tfidf, 1)\n",
    "    \n",
    "    U = np.fliplr(U)\n",
    "    Vt = np.flipud(Vt)\n",
    "    S = S[::-1]\n",
    "    \n",
    "    indx = np.argsort(Vt[0,:])[-n_keywords:]\n",
    "    return [feature_names[i] for i in reversed(indx)]"
   ]
  },
  {
   "cell_type": "code",
   "execution_count": 77,
   "metadata": {},
   "outputs": [
    {
     "data": {
      "text/plain": [
       "3.188888888888889"
      ]
     },
     "execution_count": 77,
     "metadata": {},
     "output_type": "execute_result"
    }
   ],
   "source": [
    "s = 0\n",
    "n = len(x)\n",
    "for i in range(n):\n",
    "    ans = svd_keywords_separate(i)\n",
    "    s += len(set(map(lambda x : x.lower(), y[i])) & set(ans))\n",
    "s/n"
   ]
  },
  {
   "cell_type": "code",
   "execution_count": 79,
   "metadata": {},
   "outputs": [
    {
     "data": {
      "text/plain": [
       "['kenny',\n",
       " 'little',\n",
       " 'chance',\n",
       " 'stars',\n",
       " 'reported',\n",
       " 'script',\n",
       " 'nightmarish',\n",
       " 'probably',\n",
       " 'genuinely',\n",
       " 'way']"
      ]
     },
     "execution_count": 79,
     "metadata": {},
     "output_type": "execute_result"
    }
   ],
   "source": [
    "svd_keywords_separate(2)"
   ]
  },
  {
   "cell_type": "code",
   "execution_count": null,
   "metadata": {
    "collapsed": true
   },
   "outputs": [],
   "source": []
  }
 ],
 "metadata": {
  "kernelspec": {
   "display_name": "Python 3",
   "language": "python",
   "name": "python3"
  },
  "language_info": {
   "codemirror_mode": {
    "name": "ipython",
    "version": 3
   },
   "file_extension": ".py",
   "mimetype": "text/x-python",
   "name": "python",
   "nbconvert_exporter": "python",
   "pygments_lexer": "ipython3",
   "version": "3.6.2"
  }
 },
 "nbformat": 4,
 "nbformat_minor": 2
}
